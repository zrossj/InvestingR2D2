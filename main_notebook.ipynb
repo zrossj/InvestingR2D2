{
 "cells": [
  {
   "cell_type": "code",
   "execution_count": 1,
   "id": "89fd9d47",
   "metadata": {},
   "outputs": [],
   "source": [
    "import pandas as pd\n",
    "import numpy as np\n",
    "from sqlalchemy import text\n",
    "from jproperties import Properties\n",
    "from datetime import timedelta\n",
    "from app.wallet_processing import Wallet\n",
    "from app.wallet_processing import Cashflow\n",
    "from decimal import Decimal"
   ]
  },
  {
   "cell_type": "markdown",
   "id": "ce8cc332",
   "metadata": {},
   "source": [
    "### This notebook is a demo\n"
   ]
  },
  {
   "cell_type": "code",
   "execution_count": null,
   "id": "e909446f",
   "metadata": {},
   "outputs": [],
   "source": []
  },
  {
   "cell_type": "code",
   "execution_count": 2,
   "id": "187927ac",
   "metadata": {},
   "outputs": [],
   "source": [
    "w = Wallet(wallet_id = 1)\n"
   ]
  },
  {
   "cell_type": "code",
   "execution_count": 3,
   "id": "b16e92df",
   "metadata": {},
   "outputs": [
    {
     "name": "stdout",
     "output_type": "stream",
     "text": [
      "2025-07-08, D-1 position clonned\n",
      "position updated!\n"
     ]
    }
   ],
   "source": [
    "w.update_position(end_date='20250708') \n",
    "\n",
    "# this will update if there is any new transaction available in the database that weren't processed before, \n",
    "#based on the date (only works for new opeartions that are newer than the last date with position)"
   ]
  },
  {
   "cell_type": "code",
   "execution_count": 4,
   "id": "e3c80753",
   "metadata": {},
   "outputs": [
    {
     "data": {
      "text/html": [
       "<div>\n",
       "<style scoped>\n",
       "    .dataframe tbody tr th:only-of-type {\n",
       "        vertical-align: middle;\n",
       "    }\n",
       "\n",
       "    .dataframe tbody tr th {\n",
       "        vertical-align: top;\n",
       "    }\n",
       "\n",
       "    .dataframe thead th {\n",
       "        text-align: right;\n",
       "    }\n",
       "</style>\n",
       "<table border=\"1\" class=\"dataframe\">\n",
       "  <thead>\n",
       "    <tr style=\"text-align: right;\">\n",
       "      <th></th>\n",
       "      <th>date</th>\n",
       "      <th>wallet_id</th>\n",
       "      <th>brokerage_firm_id</th>\n",
       "      <th>asset</th>\n",
       "      <th>quantity</th>\n",
       "      <th>pu</th>\n",
       "      <th>value</th>\n",
       "    </tr>\n",
       "  </thead>\n",
       "  <tbody>\n",
       "    <tr>\n",
       "      <th>0</th>\n",
       "      <td>2025-05-30</td>\n",
       "      <td>1</td>\n",
       "      <td>2</td>\n",
       "      <td>RECV3</td>\n",
       "      <td>300.00000000</td>\n",
       "      <td>14.19000000</td>\n",
       "      <td>4257.00000000</td>\n",
       "    </tr>\n",
       "    <tr>\n",
       "      <th>1</th>\n",
       "      <td>2025-05-30</td>\n",
       "      <td>1</td>\n",
       "      <td>1</td>\n",
       "      <td>POSI3</td>\n",
       "      <td>35.00000000</td>\n",
       "      <td>4.72000000</td>\n",
       "      <td>165.20000000</td>\n",
       "    </tr>\n",
       "  </tbody>\n",
       "</table>\n",
       "</div>"
      ],
      "text/plain": [
       "         date  wallet_id  brokerage_firm_id  asset      quantity           pu  \\\n",
       "0  2025-05-30          1                  2  RECV3  300.00000000  14.19000000   \n",
       "1  2025-05-30          1                  1  POSI3   35.00000000   4.72000000   \n",
       "\n",
       "           value  \n",
       "0  4257.00000000  \n",
       "1   165.20000000  "
      ]
     },
     "execution_count": 4,
     "metadata": {},
     "output_type": "execute_result"
    }
   ],
   "source": [
    "w.get_position('20250530')"
   ]
  },
  {
   "cell_type": "code",
   "execution_count": 5,
   "id": "1ae1007c",
   "metadata": {},
   "outputs": [
    {
     "data": {
      "text/html": [
       "<div>\n",
       "<style scoped>\n",
       "    .dataframe tbody tr th:only-of-type {\n",
       "        vertical-align: middle;\n",
       "    }\n",
       "\n",
       "    .dataframe tbody tr th {\n",
       "        vertical-align: top;\n",
       "    }\n",
       "\n",
       "    .dataframe thead th {\n",
       "        text-align: right;\n",
       "    }\n",
       "</style>\n",
       "<table border=\"1\" class=\"dataframe\">\n",
       "  <thead>\n",
       "    <tr style=\"text-align: right;\">\n",
       "      <th></th>\n",
       "      <th>date</th>\n",
       "      <th>wallet_id</th>\n",
       "      <th>brokerage_firm_id</th>\n",
       "      <th>asset</th>\n",
       "      <th>quantity</th>\n",
       "      <th>pu</th>\n",
       "      <th>value</th>\n",
       "    </tr>\n",
       "  </thead>\n",
       "  <tbody>\n",
       "    <tr>\n",
       "      <th>0</th>\n",
       "      <td>2025-07-08</td>\n",
       "      <td>1</td>\n",
       "      <td>2</td>\n",
       "      <td>RECV3</td>\n",
       "      <td>300.00000000</td>\n",
       "      <td>14.19000000</td>\n",
       "      <td>4257.00000000</td>\n",
       "    </tr>\n",
       "    <tr>\n",
       "      <th>1</th>\n",
       "      <td>2025-07-08</td>\n",
       "      <td>1</td>\n",
       "      <td>1</td>\n",
       "      <td>POSI3</td>\n",
       "      <td>35.00000000</td>\n",
       "      <td>4.72000000</td>\n",
       "      <td>165.20000000</td>\n",
       "    </tr>\n",
       "    <tr>\n",
       "      <th>2</th>\n",
       "      <td>2025-07-08</td>\n",
       "      <td>1</td>\n",
       "      <td>2</td>\n",
       "      <td>BBAS3</td>\n",
       "      <td>150.00000000</td>\n",
       "      <td>21.93000000</td>\n",
       "      <td>3289.50000000</td>\n",
       "    </tr>\n",
       "  </tbody>\n",
       "</table>\n",
       "</div>"
      ],
      "text/plain": [
       "         date  wallet_id  brokerage_firm_id  asset      quantity           pu  \\\n",
       "0  2025-07-08          1                  2  RECV3  300.00000000  14.19000000   \n",
       "1  2025-07-08          1                  1  POSI3   35.00000000   4.72000000   \n",
       "2  2025-07-08          1                  2  BBAS3  150.00000000  21.93000000   \n",
       "\n",
       "           value  \n",
       "0  4257.00000000  \n",
       "1   165.20000000  \n",
       "2  3289.50000000  "
      ]
     },
     "execution_count": 5,
     "metadata": {},
     "output_type": "execute_result"
    }
   ],
   "source": [
    "w.get_last_position()"
   ]
  },
  {
   "cell_type": "code",
   "execution_count": 6,
   "id": "070cf9b5",
   "metadata": {},
   "outputs": [
    {
     "data": {
      "text/html": [
       "<div>\n",
       "<style scoped>\n",
       "    .dataframe tbody tr th:only-of-type {\n",
       "        vertical-align: middle;\n",
       "    }\n",
       "\n",
       "    .dataframe tbody tr th {\n",
       "        vertical-align: top;\n",
       "    }\n",
       "\n",
       "    .dataframe thead th {\n",
       "        text-align: right;\n",
       "    }\n",
       "</style>\n",
       "<table border=\"1\" class=\"dataframe\">\n",
       "  <thead>\n",
       "    <tr style=\"text-align: right;\">\n",
       "      <th></th>\n",
       "      <th>id</th>\n",
       "      <th>date_op</th>\n",
       "      <th>wallet_id</th>\n",
       "      <th>movement</th>\n",
       "      <th>market</th>\n",
       "      <th>date_expiration</th>\n",
       "      <th>brokerage_firm_id</th>\n",
       "      <th>asset</th>\n",
       "      <th>quantity</th>\n",
       "      <th>pu</th>\n",
       "      <th>value</th>\n",
       "    </tr>\n",
       "  </thead>\n",
       "  <tbody>\n",
       "    <tr>\n",
       "      <th>0</th>\n",
       "      <td>1</td>\n",
       "      <td>2025-05-30</td>\n",
       "      <td>1</td>\n",
       "      <td>Compra</td>\n",
       "      <td>Mercado Fracionário</td>\n",
       "      <td>2099-12-31</td>\n",
       "      <td>1</td>\n",
       "      <td>POSI3</td>\n",
       "      <td>17</td>\n",
       "      <td>4.72</td>\n",
       "      <td>80.24</td>\n",
       "    </tr>\n",
       "    <tr>\n",
       "      <th>1</th>\n",
       "      <td>2</td>\n",
       "      <td>2025-05-30</td>\n",
       "      <td>1</td>\n",
       "      <td>Compra</td>\n",
       "      <td>Mercado Fracionário</td>\n",
       "      <td>2099-12-31</td>\n",
       "      <td>1</td>\n",
       "      <td>POSI3</td>\n",
       "      <td>18</td>\n",
       "      <td>4.72</td>\n",
       "      <td>84.96</td>\n",
       "    </tr>\n",
       "    <tr>\n",
       "      <th>2</th>\n",
       "      <td>5</td>\n",
       "      <td>2025-06-06</td>\n",
       "      <td>1</td>\n",
       "      <td>Compra</td>\n",
       "      <td>Mercado à Vista</td>\n",
       "      <td>2099-12-31</td>\n",
       "      <td>2</td>\n",
       "      <td>BBAS3</td>\n",
       "      <td>100</td>\n",
       "      <td>21.75</td>\n",
       "      <td>2175.00</td>\n",
       "    </tr>\n",
       "    <tr>\n",
       "      <th>3</th>\n",
       "      <td>6</td>\n",
       "      <td>2025-06-05</td>\n",
       "      <td>1</td>\n",
       "      <td>Compra</td>\n",
       "      <td>Mercado Fracionário</td>\n",
       "      <td>2099-12-31</td>\n",
       "      <td>2</td>\n",
       "      <td>BBAS3</td>\n",
       "      <td>50</td>\n",
       "      <td>22.29</td>\n",
       "      <td>1114.50</td>\n",
       "    </tr>\n",
       "  </tbody>\n",
       "</table>\n",
       "</div>"
      ],
      "text/plain": [
       "   id     date_op  wallet_id movement               market date_expiration  \\\n",
       "0   1  2025-05-30          1   Compra  Mercado Fracionário      2099-12-31   \n",
       "1   2  2025-05-30          1   Compra  Mercado Fracionário      2099-12-31   \n",
       "2   5  2025-06-06          1   Compra      Mercado à Vista      2099-12-31   \n",
       "3   6  2025-06-05          1   Compra  Mercado Fracionário      2099-12-31   \n",
       "\n",
       "   brokerage_firm_id  asset quantity     pu    value  \n",
       "0                  1  POSI3       17   4.72    80.24  \n",
       "1                  1  POSI3       18   4.72    84.96  \n",
       "2                  2  BBAS3      100  21.75  2175.00  \n",
       "3                  2  BBAS3       50  22.29  1114.50  "
      ]
     },
     "execution_count": 6,
     "metadata": {},
     "output_type": "execute_result"
    }
   ],
   "source": [
    "w.get_operations('20250530') # retrieve the ops that are > than the passed date;"
   ]
  },
  {
   "cell_type": "code",
   "execution_count": null,
   "id": "022002a1",
   "metadata": {},
   "outputs": [],
   "source": []
  },
  {
   "cell_type": "markdown",
   "id": "a910bb9e",
   "metadata": {},
   "source": [
    "### CASHFLOW CLASS"
   ]
  },
  {
   "cell_type": "code",
   "execution_count": 7,
   "id": "96e53d26",
   "metadata": {},
   "outputs": [],
   "source": [
    "cashflow = Cashflow(wallet_id = 1)"
   ]
  },
  {
   "cell_type": "code",
   "execution_count": 8,
   "id": "ca81b0ce",
   "metadata": {},
   "outputs": [],
   "source": [
    "# Example on how to insert a cashflow transfer \n",
    "\n",
    "#cashflow.cash_transfer(1011, 9, 101, 1, '20250520', 4257.0)\n",
    "#cashflow.cash_transfer(1011, 9, 101, 1, '20250530', 3454.7)\n",
    "\n"
   ]
  },
  {
   "cell_type": "code",
   "execution_count": null,
   "id": "03bc8df2",
   "metadata": {},
   "outputs": [
    {
     "data": {
      "text/plain": [
       "Decimal('7711.70')"
      ]
     },
     "execution_count": 9,
     "metadata": {},
     "output_type": "execute_result"
    }
   ],
   "source": [
    "transaction_history = cashflow.get_transaction_history(start_date = '20230101' ,end_date = '20250605')\n",
    "\n",
    "invested_value = transaction_history[transaction_history.origem_id.isna()].value.sum()\n",
    "invested_value"
   ]
  },
  {
   "cell_type": "markdown",
   "id": "05834f4f",
   "metadata": {},
   "source": [
    "### PERFORMANCE ANALYSIS "
   ]
  },
  {
   "cell_type": "code",
   "execution_count": 18,
   "id": "03dafeb8",
   "metadata": {},
   "outputs": [],
   "source": [
    "import yfinance as yf"
   ]
  },
  {
   "cell_type": "code",
   "execution_count": 19,
   "id": "6ef8b20c",
   "metadata": {},
   "outputs": [
    {
     "data": {
      "text/html": [
       "<div>\n",
       "<style scoped>\n",
       "    .dataframe tbody tr th:only-of-type {\n",
       "        vertical-align: middle;\n",
       "    }\n",
       "\n",
       "    .dataframe tbody tr th {\n",
       "        vertical-align: top;\n",
       "    }\n",
       "\n",
       "    .dataframe thead th {\n",
       "        text-align: right;\n",
       "    }\n",
       "</style>\n",
       "<table border=\"1\" class=\"dataframe\">\n",
       "  <thead>\n",
       "    <tr style=\"text-align: right;\">\n",
       "      <th></th>\n",
       "      <th>date</th>\n",
       "      <th>wallet_id</th>\n",
       "      <th>brokerage_firm_id</th>\n",
       "      <th>asset</th>\n",
       "      <th>quantity</th>\n",
       "      <th>pu</th>\n",
       "      <th>value</th>\n",
       "    </tr>\n",
       "  </thead>\n",
       "  <tbody>\n",
       "    <tr>\n",
       "      <th>0</th>\n",
       "      <td>2025-07-08</td>\n",
       "      <td>1</td>\n",
       "      <td>2</td>\n",
       "      <td>RECV3</td>\n",
       "      <td>300.00000000</td>\n",
       "      <td>14.19000000</td>\n",
       "      <td>4257.00000000</td>\n",
       "    </tr>\n",
       "    <tr>\n",
       "      <th>1</th>\n",
       "      <td>2025-07-08</td>\n",
       "      <td>1</td>\n",
       "      <td>1</td>\n",
       "      <td>POSI3</td>\n",
       "      <td>35.00000000</td>\n",
       "      <td>4.72000000</td>\n",
       "      <td>165.20000000</td>\n",
       "    </tr>\n",
       "    <tr>\n",
       "      <th>2</th>\n",
       "      <td>2025-07-08</td>\n",
       "      <td>1</td>\n",
       "      <td>2</td>\n",
       "      <td>BBAS3</td>\n",
       "      <td>150.00000000</td>\n",
       "      <td>21.93000000</td>\n",
       "      <td>3289.50000000</td>\n",
       "    </tr>\n",
       "  </tbody>\n",
       "</table>\n",
       "</div>"
      ],
      "text/plain": [
       "         date  wallet_id  brokerage_firm_id  asset      quantity           pu  \\\n",
       "0  2025-07-08          1                  2  RECV3  300.00000000  14.19000000   \n",
       "1  2025-07-08          1                  1  POSI3   35.00000000   4.72000000   \n",
       "2  2025-07-08          1                  2  BBAS3  150.00000000  21.93000000   \n",
       "\n",
       "           value  \n",
       "0  4257.00000000  \n",
       "1   165.20000000  \n",
       "2  3289.50000000  "
      ]
     },
     "execution_count": 19,
     "metadata": {},
     "output_type": "execute_result"
    }
   ],
   "source": [
    "\n",
    "df = w.get_last_position()\n",
    "df.head(3)"
   ]
  },
  {
   "cell_type": "code",
   "execution_count": null,
   "id": "576d89bb",
   "metadata": {},
   "outputs": [
    {
     "name": "stderr",
     "output_type": "stream",
     "text": [
      "[*********************100%***********************]  3 of 3 completed\n"
     ]
    }
   ],
   "source": [
    "tickers = df.asset.values\n",
    "tickers = \" \".join(\n",
    "    [ticker + '.SA' for ticker in tickers])\n",
    "\n",
    "df_market_price = yf.Tickers(tickers).history('1mo')['Close']\n",
    "\n",
    "###\n",
    "df_market_price = df_market_price.reset_index().melt(id_vars = ['Date'])\n",
    "df_market_price.columns = ['date', 'ticker', 'price_market']\n",
    "df_market_price.ticker = [ticker.split('.')[0] for ticker in df_market_price.ticker]\n",
    "df_market_price.loc[:, 'date'] = df_market_price.date.dt.date\n",
    "df_market_price.set_index(['date', 'ticker'], inplace = True)"
   ]
  },
  {
   "cell_type": "code",
   "execution_count": 12,
   "id": "e1633b4a",
   "metadata": {},
   "outputs": [
    {
     "data": {
      "text/html": [
       "<div>\n",
       "<style scoped>\n",
       "    .dataframe tbody tr th:only-of-type {\n",
       "        vertical-align: middle;\n",
       "    }\n",
       "\n",
       "    .dataframe tbody tr th {\n",
       "        vertical-align: top;\n",
       "    }\n",
       "\n",
       "    .dataframe thead th {\n",
       "        text-align: right;\n",
       "    }\n",
       "</style>\n",
       "<table border=\"1\" class=\"dataframe\">\n",
       "  <thead>\n",
       "    <tr style=\"text-align: right;\">\n",
       "      <th></th>\n",
       "      <th></th>\n",
       "      <th>price_market</th>\n",
       "    </tr>\n",
       "    <tr>\n",
       "      <th>date</th>\n",
       "      <th>ticker</th>\n",
       "      <th></th>\n",
       "    </tr>\n",
       "  </thead>\n",
       "  <tbody>\n",
       "    <tr>\n",
       "      <th>2025-06-09</th>\n",
       "      <th>BBAS3</th>\n",
       "      <td>21.730000</td>\n",
       "    </tr>\n",
       "    <tr>\n",
       "      <th>2025-06-10</th>\n",
       "      <th>BBAS3</th>\n",
       "      <td>21.540001</td>\n",
       "    </tr>\n",
       "    <tr>\n",
       "      <th>2025-06-11</th>\n",
       "      <th>BBAS3</th>\n",
       "      <td>21.400000</td>\n",
       "    </tr>\n",
       "  </tbody>\n",
       "</table>\n",
       "</div>"
      ],
      "text/plain": [
       "                   price_market\n",
       "date       ticker              \n",
       "2025-06-09 BBAS3      21.730000\n",
       "2025-06-10 BBAS3      21.540001\n",
       "2025-06-11 BBAS3      21.400000"
      ]
     },
     "execution_count": 12,
     "metadata": {},
     "output_type": "execute_result"
    }
   ],
   "source": [
    "df_market_price.head(3)"
   ]
  },
  {
   "cell_type": "code",
   "execution_count": null,
   "id": "aee1583e",
   "metadata": {},
   "outputs": [],
   "source": [
    "df.date = pd.to_datetime(df.date)\n",
    "df_pnl = df.join(df_market_price, on = ['date', 'asset'])\n",
    "\n",
    "# conversion of dtypes\n",
    "df_pnl.loc[:, 'price_market'] = df_pnl.price_market.apply(lambda x: Decimal(x))\n",
    "\n",
    "# metrics calculation\n",
    "df_pnl['market_value'] = df_pnl.price_market * df_pnl.quantity\n",
    "df_pnl['PnL_%'] = (df_pnl.price_market/df_pnl.pu -1 ) * 100\n",
    "df_pnl['PnL_R$'] = df_pnl['PnL_%']/100 * df_pnl.value\n",
    "\n",
    "# round numbers; \n",
    "df_pnl = df_pnl.applymap(lambda x: round(x, 2) if isinstance(x, Decimal) else x)"
   ]
  },
  {
   "cell_type": "code",
   "execution_count": null,
   "id": "0f051563",
   "metadata": {},
   "outputs": [],
   "source": []
  },
  {
   "cell_type": "code",
   "execution_count": 16,
   "id": "def42b11",
   "metadata": {},
   "outputs": [
    {
     "data": {
      "text/html": [
       "<div>\n",
       "<style scoped>\n",
       "    .dataframe tbody tr th:only-of-type {\n",
       "        vertical-align: middle;\n",
       "    }\n",
       "\n",
       "    .dataframe tbody tr th {\n",
       "        vertical-align: top;\n",
       "    }\n",
       "\n",
       "    .dataframe thead th {\n",
       "        text-align: right;\n",
       "    }\n",
       "</style>\n",
       "<table border=\"1\" class=\"dataframe\">\n",
       "  <thead>\n",
       "    <tr style=\"text-align: right;\">\n",
       "      <th></th>\n",
       "      <th>date</th>\n",
       "      <th>wallet_id</th>\n",
       "      <th>brokerage_firm_id</th>\n",
       "      <th>asset</th>\n",
       "      <th>quantity</th>\n",
       "      <th>pu</th>\n",
       "      <th>value</th>\n",
       "      <th>price_market</th>\n",
       "      <th>market_value</th>\n",
       "      <th>PnL_%</th>\n",
       "      <th>PnL_R$</th>\n",
       "    </tr>\n",
       "  </thead>\n",
       "  <tbody>\n",
       "    <tr>\n",
       "      <th>0</th>\n",
       "      <td>2025-07-08</td>\n",
       "      <td>1</td>\n",
       "      <td>2</td>\n",
       "      <td>RECV3</td>\n",
       "      <td>300.00</td>\n",
       "      <td>14.19</td>\n",
       "      <td>4257.00</td>\n",
       "      <td>14.73</td>\n",
       "      <td>4419.00</td>\n",
       "      <td>3.81</td>\n",
       "      <td>162.00</td>\n",
       "    </tr>\n",
       "    <tr>\n",
       "      <th>1</th>\n",
       "      <td>2025-07-08</td>\n",
       "      <td>1</td>\n",
       "      <td>1</td>\n",
       "      <td>POSI3</td>\n",
       "      <td>35.00</td>\n",
       "      <td>4.72</td>\n",
       "      <td>165.20</td>\n",
       "      <td>4.92</td>\n",
       "      <td>172.20</td>\n",
       "      <td>4.24</td>\n",
       "      <td>7.00</td>\n",
       "    </tr>\n",
       "    <tr>\n",
       "      <th>2</th>\n",
       "      <td>2025-07-08</td>\n",
       "      <td>1</td>\n",
       "      <td>2</td>\n",
       "      <td>BBAS3</td>\n",
       "      <td>150.00</td>\n",
       "      <td>21.93</td>\n",
       "      <td>3289.50</td>\n",
       "      <td>22.00</td>\n",
       "      <td>3300.00</td>\n",
       "      <td>0.32</td>\n",
       "      <td>10.50</td>\n",
       "    </tr>\n",
       "  </tbody>\n",
       "</table>\n",
       "</div>"
      ],
      "text/plain": [
       "        date  wallet_id  brokerage_firm_id  asset quantity     pu    value  \\\n",
       "0 2025-07-08          1                  2  RECV3   300.00  14.19  4257.00   \n",
       "1 2025-07-08          1                  1  POSI3    35.00   4.72   165.20   \n",
       "2 2025-07-08          1                  2  BBAS3   150.00  21.93  3289.50   \n",
       "\n",
       "  price_market market_value PnL_%  PnL_R$  \n",
       "0        14.73      4419.00  3.81  162.00  \n",
       "1         4.92       172.20  4.24    7.00  \n",
       "2        22.00      3300.00  0.32   10.50  "
      ]
     },
     "execution_count": 16,
     "metadata": {},
     "output_type": "execute_result"
    }
   ],
   "source": [
    "df_pnl"
   ]
  },
  {
   "cell_type": "code",
   "execution_count": null,
   "id": "f10fa8ff",
   "metadata": {},
   "outputs": [
    {
     "name": "stdout",
     "output_type": "stream",
     "text": [
      "Total return of the wallet -> 2.3276%\n"
     ]
    }
   ],
   "source": [
    "print(f'Total return of the wallet -> {round((df_pnl.market_value.sum() / invested_value - 1) * 100, 4)}%')"
   ]
  }
 ],
 "metadata": {
  "kernelspec": {
   "display_name": "invest",
   "language": "python",
   "name": "python3"
  },
  "language_info": {
   "codemirror_mode": {
    "name": "ipython",
    "version": 3
   },
   "file_extension": ".py",
   "mimetype": "text/x-python",
   "name": "python",
   "nbconvert_exporter": "python",
   "pygments_lexer": "ipython3",
   "version": "3.11.2"
  }
 },
 "nbformat": 4,
 "nbformat_minor": 5
}
