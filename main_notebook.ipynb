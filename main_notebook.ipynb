{
 "cells": [
  {
   "cell_type": "code",
   "execution_count": 1,
   "id": "89fd9d47",
   "metadata": {},
   "outputs": [],
   "source": [
    "import pandas as pd\n",
    "import numpy as np\n",
    "from sqlalchemy import text\n",
    "from jproperties import Properties\n",
    "from datetime import timedelta\n",
    "from app.wallet_processing import Wallet\n",
    "from app.wallet_processing import Cashflow"
   ]
  },
  {
   "cell_type": "markdown",
   "id": "ce8cc332",
   "metadata": {},
   "source": [
    "### This notebook will call the classes and functions for processing, acessing the data, load transactions etc.\n"
   ]
  },
  {
   "cell_type": "code",
   "execution_count": null,
   "id": "e909446f",
   "metadata": {},
   "outputs": [],
   "source": []
  },
  {
   "cell_type": "code",
   "execution_count": 2,
   "id": "187927ac",
   "metadata": {},
   "outputs": [],
   "source": [
    "w = Wallet(wallet_id = 1)\n",
    "cashflow = Cashflow(wallet_id= 1)"
   ]
  },
  {
   "cell_type": "code",
   "execution_count": 3,
   "id": "ca237c2d",
   "metadata": {},
   "outputs": [
    {
     "data": {
      "text/html": [
       "<div>\n",
       "<style scoped>\n",
       "    .dataframe tbody tr th:only-of-type {\n",
       "        vertical-align: middle;\n",
       "    }\n",
       "\n",
       "    .dataframe tbody tr th {\n",
       "        vertical-align: top;\n",
       "    }\n",
       "\n",
       "    .dataframe thead th {\n",
       "        text-align: right;\n",
       "    }\n",
       "</style>\n",
       "<table border=\"1\" class=\"dataframe\">\n",
       "  <thead>\n",
       "    <tr style=\"text-align: right;\">\n",
       "      <th></th>\n",
       "      <th>date</th>\n",
       "      <th>id</th>\n",
       "      <th>brokerage_firm_id</th>\n",
       "      <th>asset</th>\n",
       "      <th>quantity</th>\n",
       "      <th>pu</th>\n",
       "      <th>value</th>\n",
       "    </tr>\n",
       "  </thead>\n",
       "  <tbody>\n",
       "    <tr>\n",
       "      <th>0</th>\n",
       "      <td>2025-06-06</td>\n",
       "      <td>1</td>\n",
       "      <td>2</td>\n",
       "      <td>RECV3</td>\n",
       "      <td>300.00000000</td>\n",
       "      <td>14.19000000</td>\n",
       "      <td>4257.00000000</td>\n",
       "    </tr>\n",
       "    <tr>\n",
       "      <th>1</th>\n",
       "      <td>2025-06-06</td>\n",
       "      <td>1</td>\n",
       "      <td>1</td>\n",
       "      <td>POSI3</td>\n",
       "      <td>35.00000000</td>\n",
       "      <td>4.72000000</td>\n",
       "      <td>165.20000000</td>\n",
       "    </tr>\n",
       "    <tr>\n",
       "      <th>2</th>\n",
       "      <td>2025-06-06</td>\n",
       "      <td>1</td>\n",
       "      <td>2</td>\n",
       "      <td>BBAS3</td>\n",
       "      <td>150.00000000</td>\n",
       "      <td>21.93000000</td>\n",
       "      <td>3289.50000000</td>\n",
       "    </tr>\n",
       "  </tbody>\n",
       "</table>\n",
       "</div>"
      ],
      "text/plain": [
       "         date  id  brokerage_firm_id  asset      quantity           pu  \\\n",
       "0  2025-06-06   1                  2  RECV3  300.00000000  14.19000000   \n",
       "1  2025-06-06   1                  1  POSI3   35.00000000   4.72000000   \n",
       "2  2025-06-06   1                  2  BBAS3  150.00000000  21.93000000   \n",
       "\n",
       "           value  \n",
       "0  4257.00000000  \n",
       "1   165.20000000  \n",
       "2  3289.50000000  "
      ]
     },
     "execution_count": 3,
     "metadata": {},
     "output_type": "execute_result"
    }
   ],
   "source": [
    "w.get_last_position()"
   ]
  },
  {
   "cell_type": "code",
   "execution_count": 4,
   "id": "2fa22215",
   "metadata": {},
   "outputs": [
    {
     "data": {
      "text/html": [
       "<div>\n",
       "<style scoped>\n",
       "    .dataframe tbody tr th:only-of-type {\n",
       "        vertical-align: middle;\n",
       "    }\n",
       "\n",
       "    .dataframe tbody tr th {\n",
       "        vertical-align: top;\n",
       "    }\n",
       "\n",
       "    .dataframe thead th {\n",
       "        text-align: right;\n",
       "    }\n",
       "</style>\n",
       "<table border=\"1\" class=\"dataframe\">\n",
       "  <thead>\n",
       "    <tr style=\"text-align: right;\">\n",
       "      <th></th>\n",
       "      <th>date</th>\n",
       "      <th>id</th>\n",
       "      <th>brokerage_firm_id</th>\n",
       "      <th>asset</th>\n",
       "      <th>quantity</th>\n",
       "      <th>pu</th>\n",
       "      <th>value</th>\n",
       "    </tr>\n",
       "  </thead>\n",
       "  <tbody>\n",
       "    <tr>\n",
       "      <th>0</th>\n",
       "      <td>2025-05-30</td>\n",
       "      <td>1</td>\n",
       "      <td>2</td>\n",
       "      <td>RECV3</td>\n",
       "      <td>300.00000000</td>\n",
       "      <td>14.19000000</td>\n",
       "      <td>4257.00000000</td>\n",
       "    </tr>\n",
       "    <tr>\n",
       "      <th>1</th>\n",
       "      <td>2025-05-30</td>\n",
       "      <td>1</td>\n",
       "      <td>1</td>\n",
       "      <td>POSI3</td>\n",
       "      <td>35.00000000</td>\n",
       "      <td>4.72000000</td>\n",
       "      <td>165.20000000</td>\n",
       "    </tr>\n",
       "  </tbody>\n",
       "</table>\n",
       "</div>"
      ],
      "text/plain": [
       "         date  id  brokerage_firm_id  asset      quantity           pu  \\\n",
       "0  2025-05-30   1                  2  RECV3  300.00000000  14.19000000   \n",
       "1  2025-05-30   1                  1  POSI3   35.00000000   4.72000000   \n",
       "\n",
       "           value  \n",
       "0  4257.00000000  \n",
       "1   165.20000000  "
      ]
     },
     "execution_count": 4,
     "metadata": {},
     "output_type": "execute_result"
    }
   ],
   "source": [
    "w.get_position('20250530')"
   ]
  },
  {
   "cell_type": "code",
   "execution_count": 5,
   "id": "b16e92df",
   "metadata": {},
   "outputs": [],
   "source": [
    "#w.update_position() \n",
    "\n",
    "# this will update if there is any new transaction available in the database that weren't processed before, \n",
    "#based on the date (only works for new opeartions that are newer than the last date with position)"
   ]
  },
  {
   "cell_type": "code",
   "execution_count": 6,
   "id": "070cf9b5",
   "metadata": {},
   "outputs": [
    {
     "data": {
      "text/html": [
       "<div>\n",
       "<style scoped>\n",
       "    .dataframe tbody tr th:only-of-type {\n",
       "        vertical-align: middle;\n",
       "    }\n",
       "\n",
       "    .dataframe tbody tr th {\n",
       "        vertical-align: top;\n",
       "    }\n",
       "\n",
       "    .dataframe thead th {\n",
       "        text-align: right;\n",
       "    }\n",
       "</style>\n",
       "<table border=\"1\" class=\"dataframe\">\n",
       "  <thead>\n",
       "    <tr style=\"text-align: right;\">\n",
       "      <th></th>\n",
       "      <th>date_op</th>\n",
       "      <th>id</th>\n",
       "      <th>movement</th>\n",
       "      <th>market</th>\n",
       "      <th>date_expiration</th>\n",
       "      <th>brokerage_firm_id</th>\n",
       "      <th>asset</th>\n",
       "      <th>quantity</th>\n",
       "      <th>pu</th>\n",
       "      <th>value</th>\n",
       "    </tr>\n",
       "  </thead>\n",
       "  <tbody>\n",
       "    <tr>\n",
       "      <th>0</th>\n",
       "      <td>2025-06-06</td>\n",
       "      <td>1</td>\n",
       "      <td>Compra</td>\n",
       "      <td>Mercado à Vista</td>\n",
       "      <td>2099-12-31</td>\n",
       "      <td>2</td>\n",
       "      <td>BBAS3</td>\n",
       "      <td>100</td>\n",
       "      <td>21.75</td>\n",
       "      <td>2175.00</td>\n",
       "    </tr>\n",
       "    <tr>\n",
       "      <th>1</th>\n",
       "      <td>2025-06-05</td>\n",
       "      <td>1</td>\n",
       "      <td>Compra</td>\n",
       "      <td>Mercado Fracionário</td>\n",
       "      <td>2099-12-31</td>\n",
       "      <td>2</td>\n",
       "      <td>BBAS3</td>\n",
       "      <td>50</td>\n",
       "      <td>22.29</td>\n",
       "      <td>1114.50</td>\n",
       "    </tr>\n",
       "  </tbody>\n",
       "</table>\n",
       "</div>"
      ],
      "text/plain": [
       "      date_op  id movement               market date_expiration  \\\n",
       "0  2025-06-06   1   Compra      Mercado à Vista      2099-12-31   \n",
       "1  2025-06-05   1   Compra  Mercado Fracionário      2099-12-31   \n",
       "\n",
       "   brokerage_firm_id  asset quantity     pu    value  \n",
       "0                  2  BBAS3      100  21.75  2175.00  \n",
       "1                  2  BBAS3       50  22.29  1114.50  "
      ]
     },
     "execution_count": 6,
     "metadata": {},
     "output_type": "execute_result"
    }
   ],
   "source": [
    "w.get_operations('20250530') # retrieve the ops that are > than the passed date;"
   ]
  },
  {
   "cell_type": "markdown",
   "id": "a910bb9e",
   "metadata": {},
   "source": [
    "### CASHFLOW CLASS"
   ]
  },
  {
   "cell_type": "code",
   "execution_count": 7,
   "id": "a48b4d1b",
   "metadata": {},
   "outputs": [
    {
     "data": {
      "text/html": [
       "<div>\n",
       "<style scoped>\n",
       "    .dataframe tbody tr th:only-of-type {\n",
       "        vertical-align: middle;\n",
       "    }\n",
       "\n",
       "    .dataframe tbody tr th {\n",
       "        vertical-align: top;\n",
       "    }\n",
       "\n",
       "    .dataframe thead th {\n",
       "        text-align: right;\n",
       "    }\n",
       "</style>\n",
       "<table border=\"1\" class=\"dataframe\">\n",
       "  <thead>\n",
       "    <tr style=\"text-align: right;\">\n",
       "      <th></th>\n",
       "      <th>id</th>\n",
       "      <th>wallet_id</th>\n",
       "      <th>account</th>\n",
       "      <th>vd</th>\n",
       "      <th>bank_id</th>\n",
       "      <th>agency</th>\n",
       "      <th>date</th>\n",
       "      <th>value</th>\n",
       "    </tr>\n",
       "  </thead>\n",
       "  <tbody>\n",
       "    <tr>\n",
       "      <th>0</th>\n",
       "      <td>1</td>\n",
       "      <td>1</td>\n",
       "      <td>1011</td>\n",
       "      <td>9</td>\n",
       "      <td>101</td>\n",
       "      <td>1</td>\n",
       "      <td>2025-05-20</td>\n",
       "      <td>4257.00</td>\n",
       "    </tr>\n",
       "    <tr>\n",
       "      <th>1</th>\n",
       "      <td>2</td>\n",
       "      <td>1</td>\n",
       "      <td>1011</td>\n",
       "      <td>9</td>\n",
       "      <td>101</td>\n",
       "      <td>1</td>\n",
       "      <td>2025-05-30</td>\n",
       "      <td>3454.70</td>\n",
       "    </tr>\n",
       "    <tr>\n",
       "      <th>2</th>\n",
       "      <td>3</td>\n",
       "      <td>1</td>\n",
       "      <td>1011</td>\n",
       "      <td>9</td>\n",
       "      <td>101</td>\n",
       "      <td>1</td>\n",
       "      <td>2025-05-31</td>\n",
       "      <td>-1000.00</td>\n",
       "    </tr>\n",
       "  </tbody>\n",
       "</table>\n",
       "</div>"
      ],
      "text/plain": [
       "   id  wallet_id  account  vd  bank_id  agency        date     value\n",
       "0   1          1     1011   9      101       1  2025-05-20   4257.00\n",
       "1   2          1     1011   9      101       1  2025-05-30   3454.70\n",
       "2   3          1     1011   9      101       1  2025-05-31  -1000.00"
      ]
     },
     "execution_count": 7,
     "metadata": {},
     "output_type": "execute_result"
    }
   ],
   "source": [
    "cashflow.get_transaction_history(start_date = '20230101' ,end_date = '20250605')\n"
   ]
  },
  {
   "cell_type": "code",
   "execution_count": 8,
   "id": "3ece49e9",
   "metadata": {},
   "outputs": [],
   "source": [
    "# Example on how to insert a cashflow transfer\n",
    "    \n",
    "    #cashflow.money_transfer(1011, 9, 101, 1, '20250520', 4257.0)\n",
    "\n",
    "total_coast = cashflow.get_transaction_history(start_date = '20010101' ,end_date = '20500101').value.sum()\n",
    "\n"
   ]
  },
  {
   "cell_type": "markdown",
   "id": "05834f4f",
   "metadata": {},
   "source": [
    "### RESULTS "
   ]
  },
  {
   "cell_type": "code",
   "execution_count": 9,
   "id": "03dafeb8",
   "metadata": {},
   "outputs": [
    {
     "data": {
      "text/html": [
       "<div>\n",
       "<style scoped>\n",
       "    .dataframe tbody tr th:only-of-type {\n",
       "        vertical-align: middle;\n",
       "    }\n",
       "\n",
       "    .dataframe tbody tr th {\n",
       "        vertical-align: top;\n",
       "    }\n",
       "\n",
       "    .dataframe thead th {\n",
       "        text-align: right;\n",
       "    }\n",
       "</style>\n",
       "<table border=\"1\" class=\"dataframe\">\n",
       "  <thead>\n",
       "    <tr style=\"text-align: right;\">\n",
       "      <th></th>\n",
       "      <th>date</th>\n",
       "      <th>id</th>\n",
       "      <th>brokerage_firm_id</th>\n",
       "      <th>asset</th>\n",
       "      <th>quantity</th>\n",
       "      <th>pu</th>\n",
       "      <th>value</th>\n",
       "    </tr>\n",
       "  </thead>\n",
       "  <tbody>\n",
       "    <tr>\n",
       "      <th>0</th>\n",
       "      <td>2025-06-06</td>\n",
       "      <td>1</td>\n",
       "      <td>2</td>\n",
       "      <td>RECV3</td>\n",
       "      <td>300.00000000</td>\n",
       "      <td>14.19000000</td>\n",
       "      <td>4257.00000000</td>\n",
       "    </tr>\n",
       "    <tr>\n",
       "      <th>1</th>\n",
       "      <td>2025-06-06</td>\n",
       "      <td>1</td>\n",
       "      <td>1</td>\n",
       "      <td>POSI3</td>\n",
       "      <td>35.00000000</td>\n",
       "      <td>4.72000000</td>\n",
       "      <td>165.20000000</td>\n",
       "    </tr>\n",
       "    <tr>\n",
       "      <th>2</th>\n",
       "      <td>2025-06-06</td>\n",
       "      <td>1</td>\n",
       "      <td>2</td>\n",
       "      <td>BBAS3</td>\n",
       "      <td>150.00000000</td>\n",
       "      <td>21.93000000</td>\n",
       "      <td>3289.50000000</td>\n",
       "    </tr>\n",
       "  </tbody>\n",
       "</table>\n",
       "</div>"
      ],
      "text/plain": [
       "         date  id  brokerage_firm_id  asset      quantity           pu  \\\n",
       "0  2025-06-06   1                  2  RECV3  300.00000000  14.19000000   \n",
       "1  2025-06-06   1                  1  POSI3   35.00000000   4.72000000   \n",
       "2  2025-06-06   1                  2  BBAS3  150.00000000  21.93000000   \n",
       "\n",
       "           value  \n",
       "0  4257.00000000  \n",
       "1   165.20000000  \n",
       "2  3289.50000000  "
      ]
     },
     "execution_count": 9,
     "metadata": {},
     "output_type": "execute_result"
    }
   ],
   "source": [
    "import yfinance as yf\n",
    "\n",
    "\n",
    "df = w.get_last_position()\n",
    "df.head(3)"
   ]
  },
  {
   "cell_type": "code",
   "execution_count": 10,
   "id": "b65838a1",
   "metadata": {},
   "outputs": [],
   "source": [
    "tickers = df.asset.values\n",
    "\n",
    "tickers = \" \".join(\n",
    "    [ticker + '.SA' for ticker in tickers])"
   ]
  },
  {
   "cell_type": "code",
   "execution_count": null,
   "id": "9b021517",
   "metadata": {},
   "outputs": [],
   "source": []
  },
  {
   "cell_type": "code",
   "execution_count": 11,
   "id": "576d89bb",
   "metadata": {},
   "outputs": [
    {
     "name": "stderr",
     "output_type": "stream",
     "text": [
      "[*********************100%***********************]  3 of 3 completed\n"
     ]
    }
   ],
   "source": [
    "df_market_price = yf.Tickers(tickers).history('1mo')['Close']\n",
    "\n",
    "###\n",
    "df_market_price = df_market_price.reset_index().melt(id_vars = ['Date'])\n",
    "df_market_price.columns = ['date', 'ticker', 'price_market']\n",
    "df_market_price.ticker = [ticker.split('.')[0] for ticker in df_market_price.ticker]\n",
    "df_market_price.loc[:, 'date'] = df_market_price.date.dt.date\n",
    "df_market_price.set_index(['date', 'ticker'], inplace = True)"
   ]
  },
  {
   "cell_type": "code",
   "execution_count": 12,
   "id": "e1633b4a",
   "metadata": {},
   "outputs": [
    {
     "data": {
      "text/html": [
       "<div>\n",
       "<style scoped>\n",
       "    .dataframe tbody tr th:only-of-type {\n",
       "        vertical-align: middle;\n",
       "    }\n",
       "\n",
       "    .dataframe tbody tr th {\n",
       "        vertical-align: top;\n",
       "    }\n",
       "\n",
       "    .dataframe thead th {\n",
       "        text-align: right;\n",
       "    }\n",
       "</style>\n",
       "<table border=\"1\" class=\"dataframe\">\n",
       "  <thead>\n",
       "    <tr style=\"text-align: right;\">\n",
       "      <th></th>\n",
       "      <th></th>\n",
       "      <th>price_market</th>\n",
       "    </tr>\n",
       "    <tr>\n",
       "      <th>date</th>\n",
       "      <th>ticker</th>\n",
       "      <th></th>\n",
       "    </tr>\n",
       "  </thead>\n",
       "  <tbody>\n",
       "    <tr>\n",
       "      <th>2025-05-27</th>\n",
       "      <th>BBAS3</th>\n",
       "      <td>24.570000</td>\n",
       "    </tr>\n",
       "    <tr>\n",
       "      <th>2025-05-28</th>\n",
       "      <th>BBAS3</th>\n",
       "      <td>24.080000</td>\n",
       "    </tr>\n",
       "    <tr>\n",
       "      <th>2025-05-29</th>\n",
       "      <th>BBAS3</th>\n",
       "      <td>23.700001</td>\n",
       "    </tr>\n",
       "  </tbody>\n",
       "</table>\n",
       "</div>"
      ],
      "text/plain": [
       "                   price_market\n",
       "date       ticker              \n",
       "2025-05-27 BBAS3      24.570000\n",
       "2025-05-28 BBAS3      24.080000\n",
       "2025-05-29 BBAS3      23.700001"
      ]
     },
     "execution_count": 12,
     "metadata": {},
     "output_type": "execute_result"
    }
   ],
   "source": [
    "df_market_price.head(3)"
   ]
  },
  {
   "cell_type": "code",
   "execution_count": null,
   "id": "6f518bed",
   "metadata": {},
   "outputs": [],
   "source": []
  },
  {
   "cell_type": "code",
   "execution_count": 13,
   "id": "3294c7bb",
   "metadata": {},
   "outputs": [],
   "source": [
    "df.date = pd.to_datetime(df.date) # little trick\n",
    "df_pnl = df.join(df_market_price, on = ['date', 'asset'])"
   ]
  },
  {
   "cell_type": "code",
   "execution_count": null,
   "id": "5a50cd23",
   "metadata": {},
   "outputs": [],
   "source": [
    "df_pnl['PnL_%'] = (df_pnl.price_market/df_pnl.pu.astype(float) -1 ) * 100\n",
    "df_pnl['PnL_R$'] = df_pnl['PnL_%']/100 * df_pnl.value.astype(float)"
   ]
  },
  {
   "cell_type": "code",
   "execution_count": 15,
   "id": "0f051563",
   "metadata": {},
   "outputs": [
    {
     "data": {
      "text/html": [
       "<div>\n",
       "<style scoped>\n",
       "    .dataframe tbody tr th:only-of-type {\n",
       "        vertical-align: middle;\n",
       "    }\n",
       "\n",
       "    .dataframe tbody tr th {\n",
       "        vertical-align: top;\n",
       "    }\n",
       "\n",
       "    .dataframe thead th {\n",
       "        text-align: right;\n",
       "    }\n",
       "</style>\n",
       "<table border=\"1\" class=\"dataframe\">\n",
       "  <thead>\n",
       "    <tr style=\"text-align: right;\">\n",
       "      <th></th>\n",
       "      <th>date</th>\n",
       "      <th>id</th>\n",
       "      <th>brokerage_firm_id</th>\n",
       "      <th>asset</th>\n",
       "      <th>quantity</th>\n",
       "      <th>pu</th>\n",
       "      <th>value</th>\n",
       "      <th>price_market</th>\n",
       "      <th>PnL(%)</th>\n",
       "      <th>PnL(R$)</th>\n",
       "    </tr>\n",
       "  </thead>\n",
       "  <tbody>\n",
       "    <tr>\n",
       "      <th>0</th>\n",
       "      <td>2025-06-06</td>\n",
       "      <td>1</td>\n",
       "      <td>2</td>\n",
       "      <td>RECV3</td>\n",
       "      <td>300.00000000</td>\n",
       "      <td>14.19000000</td>\n",
       "      <td>4257.00000000</td>\n",
       "      <td>14.500000</td>\n",
       "      <td>2.184637</td>\n",
       "      <td>93.000000</td>\n",
       "    </tr>\n",
       "    <tr>\n",
       "      <th>1</th>\n",
       "      <td>2025-06-06</td>\n",
       "      <td>1</td>\n",
       "      <td>1</td>\n",
       "      <td>POSI3</td>\n",
       "      <td>35.00000000</td>\n",
       "      <td>4.72000000</td>\n",
       "      <td>165.20000000</td>\n",
       "      <td>4.420000</td>\n",
       "      <td>-6.355931</td>\n",
       "      <td>-10.499997</td>\n",
       "    </tr>\n",
       "    <tr>\n",
       "      <th>2</th>\n",
       "      <td>2025-06-06</td>\n",
       "      <td>1</td>\n",
       "      <td>2</td>\n",
       "      <td>BBAS3</td>\n",
       "      <td>150.00000000</td>\n",
       "      <td>21.93000000</td>\n",
       "      <td>3289.50000000</td>\n",
       "      <td>21.709999</td>\n",
       "      <td>-1.003196</td>\n",
       "      <td>-33.000137</td>\n",
       "    </tr>\n",
       "  </tbody>\n",
       "</table>\n",
       "</div>"
      ],
      "text/plain": [
       "        date  id  brokerage_firm_id  asset      quantity           pu  \\\n",
       "0 2025-06-06   1                  2  RECV3  300.00000000  14.19000000   \n",
       "1 2025-06-06   1                  1  POSI3   35.00000000   4.72000000   \n",
       "2 2025-06-06   1                  2  BBAS3  150.00000000  21.93000000   \n",
       "\n",
       "           value  price_market    PnL(%)    PnL(R$)  \n",
       "0  4257.00000000     14.500000  2.184637  93.000000  \n",
       "1   165.20000000      4.420000 -6.355931 -10.499997  \n",
       "2  3289.50000000     21.709999 -1.003196 -33.000137  "
      ]
     },
     "execution_count": 15,
     "metadata": {},
     "output_type": "execute_result"
    }
   ],
   "source": [
    "df_pnl"
   ]
  },
  {
   "cell_type": "code",
   "execution_count": null,
   "id": "ff7fa67e",
   "metadata": {},
   "outputs": [],
   "source": [
    "\n"
   ]
  },
  {
   "cell_type": "code",
   "execution_count": null,
   "id": "f10fa8ff",
   "metadata": {},
   "outputs": [],
   "source": []
  }
 ],
 "metadata": {
  "kernelspec": {
   "display_name": "invest",
   "language": "python",
   "name": "python3"
  },
  "language_info": {
   "codemirror_mode": {
    "name": "ipython",
    "version": 3
   },
   "file_extension": ".py",
   "mimetype": "text/x-python",
   "name": "python",
   "nbconvert_exporter": "python",
   "pygments_lexer": "ipython3",
   "version": "3.11.2"
  }
 },
 "nbformat": 4,
 "nbformat_minor": 5
}
